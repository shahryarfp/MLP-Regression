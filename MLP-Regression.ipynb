{
  "nbformat": 4,
  "nbformat_minor": 0,
  "metadata": {
    "colab": {
      "name": "DL_HW2_q2.ipynb",
      "provenance": [],
      "collapsed_sections": []
    },
    "kernelspec": {
      "name": "python3",
      "display_name": "Python 3"
    },
    "language_info": {
      "name": "python"
    }
  },
  "cells": [
    {
      "cell_type": "code",
      "execution_count": 845,
      "metadata": {
        "id": "MQqqaTBmMRc6"
      },
      "outputs": [],
      "source": [
        "import pandas as pd\n",
        "import numpy as np\n",
        "import matplotlib.pyplot as plt\n",
        "import tensorflow as tf\n",
        "# import random\n",
        "# from skimage import color\n",
        "# # from sklearn.metrics import confusion_matrix\n",
        "# from sklearn import metrics\n",
        "# import seaborn as sns\n",
        "my_file = pd.read_csv('data.csv')"
      ]
    },
    {
      "cell_type": "code",
      "source": [
        "#displaying first 3 datas\n",
        "my_file.head(2)"
      ],
      "metadata": {
        "colab": {
          "base_uri": "https://localhost:8080/",
          "height": 246
        },
        "id": "GiCH0XR-NsdW",
        "outputId": "e89fb7f8-7a2b-40e2-92f7-a628724a11d8"
      },
      "execution_count": 846,
      "outputs": [
        {
          "output_type": "execute_result",
          "data": {
            "text/plain": [
              "                  date      price  bedrooms  bathrooms  sqft_living  sqft_lot  \\\n",
              "0  2014-05-02 00:00:00   313000.0       3.0        1.5         1340      7912   \n",
              "1  2014-05-02 00:00:00  2384000.0       5.0        2.5         3650      9050   \n",
              "\n",
              "   floors  waterfront  view  condition  sqft_above  sqft_basement  yr_built  \\\n",
              "0     1.5           0     0          3        1340              0      1955   \n",
              "1     2.0           0     4          5        3370            280      1921   \n",
              "\n",
              "   yr_renovated                street       city  statezip country  \n",
              "0          2005  18810 Densmore Ave N  Shoreline  WA 98133     USA  \n",
              "1             0       709 W Blaine St    Seattle  WA 98119     USA  "
            ],
            "text/html": [
              "\n",
              "  <div id=\"df-c46b11ae-ec87-4461-b34d-103c68677e11\">\n",
              "    <div class=\"colab-df-container\">\n",
              "      <div>\n",
              "<style scoped>\n",
              "    .dataframe tbody tr th:only-of-type {\n",
              "        vertical-align: middle;\n",
              "    }\n",
              "\n",
              "    .dataframe tbody tr th {\n",
              "        vertical-align: top;\n",
              "    }\n",
              "\n",
              "    .dataframe thead th {\n",
              "        text-align: right;\n",
              "    }\n",
              "</style>\n",
              "<table border=\"1\" class=\"dataframe\">\n",
              "  <thead>\n",
              "    <tr style=\"text-align: right;\">\n",
              "      <th></th>\n",
              "      <th>date</th>\n",
              "      <th>price</th>\n",
              "      <th>bedrooms</th>\n",
              "      <th>bathrooms</th>\n",
              "      <th>sqft_living</th>\n",
              "      <th>sqft_lot</th>\n",
              "      <th>floors</th>\n",
              "      <th>waterfront</th>\n",
              "      <th>view</th>\n",
              "      <th>condition</th>\n",
              "      <th>sqft_above</th>\n",
              "      <th>sqft_basement</th>\n",
              "      <th>yr_built</th>\n",
              "      <th>yr_renovated</th>\n",
              "      <th>street</th>\n",
              "      <th>city</th>\n",
              "      <th>statezip</th>\n",
              "      <th>country</th>\n",
              "    </tr>\n",
              "  </thead>\n",
              "  <tbody>\n",
              "    <tr>\n",
              "      <th>0</th>\n",
              "      <td>2014-05-02 00:00:00</td>\n",
              "      <td>313000.0</td>\n",
              "      <td>3.0</td>\n",
              "      <td>1.5</td>\n",
              "      <td>1340</td>\n",
              "      <td>7912</td>\n",
              "      <td>1.5</td>\n",
              "      <td>0</td>\n",
              "      <td>0</td>\n",
              "      <td>3</td>\n",
              "      <td>1340</td>\n",
              "      <td>0</td>\n",
              "      <td>1955</td>\n",
              "      <td>2005</td>\n",
              "      <td>18810 Densmore Ave N</td>\n",
              "      <td>Shoreline</td>\n",
              "      <td>WA 98133</td>\n",
              "      <td>USA</td>\n",
              "    </tr>\n",
              "    <tr>\n",
              "      <th>1</th>\n",
              "      <td>2014-05-02 00:00:00</td>\n",
              "      <td>2384000.0</td>\n",
              "      <td>5.0</td>\n",
              "      <td>2.5</td>\n",
              "      <td>3650</td>\n",
              "      <td>9050</td>\n",
              "      <td>2.0</td>\n",
              "      <td>0</td>\n",
              "      <td>4</td>\n",
              "      <td>5</td>\n",
              "      <td>3370</td>\n",
              "      <td>280</td>\n",
              "      <td>1921</td>\n",
              "      <td>0</td>\n",
              "      <td>709 W Blaine St</td>\n",
              "      <td>Seattle</td>\n",
              "      <td>WA 98119</td>\n",
              "      <td>USA</td>\n",
              "    </tr>\n",
              "  </tbody>\n",
              "</table>\n",
              "</div>\n",
              "      <button class=\"colab-df-convert\" onclick=\"convertToInteractive('df-c46b11ae-ec87-4461-b34d-103c68677e11')\"\n",
              "              title=\"Convert this dataframe to an interactive table.\"\n",
              "              style=\"display:none;\">\n",
              "        \n",
              "  <svg xmlns=\"http://www.w3.org/2000/svg\" height=\"24px\"viewBox=\"0 0 24 24\"\n",
              "       width=\"24px\">\n",
              "    <path d=\"M0 0h24v24H0V0z\" fill=\"none\"/>\n",
              "    <path d=\"M18.56 5.44l.94 2.06.94-2.06 2.06-.94-2.06-.94-.94-2.06-.94 2.06-2.06.94zm-11 1L8.5 8.5l.94-2.06 2.06-.94-2.06-.94L8.5 2.5l-.94 2.06-2.06.94zm10 10l.94 2.06.94-2.06 2.06-.94-2.06-.94-.94-2.06-.94 2.06-2.06.94z\"/><path d=\"M17.41 7.96l-1.37-1.37c-.4-.4-.92-.59-1.43-.59-.52 0-1.04.2-1.43.59L10.3 9.45l-7.72 7.72c-.78.78-.78 2.05 0 2.83L4 21.41c.39.39.9.59 1.41.59.51 0 1.02-.2 1.41-.59l7.78-7.78 2.81-2.81c.8-.78.8-2.07 0-2.86zM5.41 20L4 18.59l7.72-7.72 1.47 1.35L5.41 20z\"/>\n",
              "  </svg>\n",
              "      </button>\n",
              "      \n",
              "  <style>\n",
              "    .colab-df-container {\n",
              "      display:flex;\n",
              "      flex-wrap:wrap;\n",
              "      gap: 12px;\n",
              "    }\n",
              "\n",
              "    .colab-df-convert {\n",
              "      background-color: #E8F0FE;\n",
              "      border: none;\n",
              "      border-radius: 50%;\n",
              "      cursor: pointer;\n",
              "      display: none;\n",
              "      fill: #1967D2;\n",
              "      height: 32px;\n",
              "      padding: 0 0 0 0;\n",
              "      width: 32px;\n",
              "    }\n",
              "\n",
              "    .colab-df-convert:hover {\n",
              "      background-color: #E2EBFA;\n",
              "      box-shadow: 0px 1px 2px rgba(60, 64, 67, 0.3), 0px 1px 3px 1px rgba(60, 64, 67, 0.15);\n",
              "      fill: #174EA6;\n",
              "    }\n",
              "\n",
              "    [theme=dark] .colab-df-convert {\n",
              "      background-color: #3B4455;\n",
              "      fill: #D2E3FC;\n",
              "    }\n",
              "\n",
              "    [theme=dark] .colab-df-convert:hover {\n",
              "      background-color: #434B5C;\n",
              "      box-shadow: 0px 1px 3px 1px rgba(0, 0, 0, 0.15);\n",
              "      filter: drop-shadow(0px 1px 2px rgba(0, 0, 0, 0.3));\n",
              "      fill: #FFFFFF;\n",
              "    }\n",
              "  </style>\n",
              "\n",
              "      <script>\n",
              "        const buttonEl =\n",
              "          document.querySelector('#df-c46b11ae-ec87-4461-b34d-103c68677e11 button.colab-df-convert');\n",
              "        buttonEl.style.display =\n",
              "          google.colab.kernel.accessAllowed ? 'block' : 'none';\n",
              "\n",
              "        async function convertToInteractive(key) {\n",
              "          const element = document.querySelector('#df-c46b11ae-ec87-4461-b34d-103c68677e11');\n",
              "          const dataTable =\n",
              "            await google.colab.kernel.invokeFunction('convertToInteractive',\n",
              "                                                     [key], {});\n",
              "          if (!dataTable) return;\n",
              "\n",
              "          const docLinkHtml = 'Like what you see? Visit the ' +\n",
              "            '<a target=\"_blank\" href=https://colab.research.google.com/notebooks/data_table.ipynb>data table notebook</a>'\n",
              "            + ' to learn more about interactive tables.';\n",
              "          element.innerHTML = '';\n",
              "          dataTable['output_type'] = 'display_data';\n",
              "          await google.colab.output.renderOutput(dataTable, element);\n",
              "          const docLink = document.createElement('div');\n",
              "          docLink.innerHTML = docLinkHtml;\n",
              "          element.appendChild(docLink);\n",
              "        }\n",
              "      </script>\n",
              "    </div>\n",
              "  </div>\n",
              "  "
            ]
          },
          "metadata": {},
          "execution_count": 846
        }
      ]
    },
    {
      "cell_type": "code",
      "source": [
        "my_file.info()"
      ],
      "metadata": {
        "colab": {
          "base_uri": "https://localhost:8080/"
        },
        "id": "6SfQlRSMNsir",
        "outputId": "ffc15213-ef0b-42d2-b4f2-ff360313c9a1"
      },
      "execution_count": 847,
      "outputs": [
        {
          "output_type": "stream",
          "name": "stdout",
          "text": [
            "<class 'pandas.core.frame.DataFrame'>\n",
            "RangeIndex: 4600 entries, 0 to 4599\n",
            "Data columns (total 18 columns):\n",
            " #   Column         Non-Null Count  Dtype  \n",
            "---  ------         --------------  -----  \n",
            " 0   date           4600 non-null   object \n",
            " 1   price          4600 non-null   float64\n",
            " 2   bedrooms       4600 non-null   float64\n",
            " 3   bathrooms      4600 non-null   float64\n",
            " 4   sqft_living    4600 non-null   int64  \n",
            " 5   sqft_lot       4600 non-null   int64  \n",
            " 6   floors         4600 non-null   float64\n",
            " 7   waterfront     4600 non-null   int64  \n",
            " 8   view           4600 non-null   int64  \n",
            " 9   condition      4600 non-null   int64  \n",
            " 10  sqft_above     4600 non-null   int64  \n",
            " 11  sqft_basement  4600 non-null   int64  \n",
            " 12  yr_built       4600 non-null   int64  \n",
            " 13  yr_renovated   4600 non-null   int64  \n",
            " 14  street         4600 non-null   object \n",
            " 15  city           4600 non-null   object \n",
            " 16  statezip       4600 non-null   object \n",
            " 17  country        4600 non-null   object \n",
            "dtypes: float64(4), int64(9), object(5)\n",
            "memory usage: 647.0+ KB\n"
          ]
        }
      ]
    },
    {
      "cell_type": "markdown",
      "source": [
        "### Pre Processing"
      ],
      "metadata": {
        "id": "mgkQo6NoSHl6"
      }
    },
    {
      "cell_type": "code",
      "source": [
        "#from the info method it is obvious that we have 13 Numerical and 5 Categorical column\n",
        "#converting categorical to numerical\n",
        "my_file.date = my_file.date.astype(\"category\").cat.codes\n",
        "my_file.street = my_file.street.astype(\"category\").cat.codes\n",
        "my_file.city = my_file.city.astype(\"category\").cat.codes\n",
        "my_file.statezip = my_file.statezip.astype(\"category\").cat.codes\n",
        "my_file.country = my_file.country.astype(\"category\").cat.codes\n",
        "my_file.head(5)"
      ],
      "metadata": {
        "colab": {
          "base_uri": "https://localhost:8080/",
          "height": 270
        },
        "id": "e6pusQ5wNsmO",
        "outputId": "25436e00-240c-4694-92e1-48a59f202ffd"
      },
      "execution_count": 848,
      "outputs": [
        {
          "output_type": "execute_result",
          "data": {
            "text/plain": [
              "   date      price  bedrooms  bathrooms  sqft_living  sqft_lot  floors  \\\n",
              "0     0   313000.0       3.0       1.50         1340      7912     1.5   \n",
              "1     0  2384000.0       5.0       2.50         3650      9050     2.0   \n",
              "2     0   342000.0       3.0       2.00         1930     11947     1.0   \n",
              "3     0   420000.0       3.0       2.25         2000      8030     1.0   \n",
              "4     0   550000.0       4.0       2.50         1940     10500     1.0   \n",
              "\n",
              "   waterfront  view  condition  sqft_above  sqft_basement  yr_built  \\\n",
              "0           0     0          3        1340              0      1955   \n",
              "1           0     4          5        3370            280      1921   \n",
              "2           0     0          4        1930              0      1966   \n",
              "3           0     0          4        1000           1000      1963   \n",
              "4           0     0          4        1140            800      1976   \n",
              "\n",
              "   yr_renovated  street  city  statezip  country  \n",
              "0          2005    1522    36        62        0  \n",
              "1             0    3899    35        58        0  \n",
              "2             0    2291    18        26        0  \n",
              "3             0    4263     3         7        0  \n",
              "4          1992    4352    31        31        0  "
            ],
            "text/html": [
              "\n",
              "  <div id=\"df-54c28882-7754-46d7-9809-bd726ac6d0f7\">\n",
              "    <div class=\"colab-df-container\">\n",
              "      <div>\n",
              "<style scoped>\n",
              "    .dataframe tbody tr th:only-of-type {\n",
              "        vertical-align: middle;\n",
              "    }\n",
              "\n",
              "    .dataframe tbody tr th {\n",
              "        vertical-align: top;\n",
              "    }\n",
              "\n",
              "    .dataframe thead th {\n",
              "        text-align: right;\n",
              "    }\n",
              "</style>\n",
              "<table border=\"1\" class=\"dataframe\">\n",
              "  <thead>\n",
              "    <tr style=\"text-align: right;\">\n",
              "      <th></th>\n",
              "      <th>date</th>\n",
              "      <th>price</th>\n",
              "      <th>bedrooms</th>\n",
              "      <th>bathrooms</th>\n",
              "      <th>sqft_living</th>\n",
              "      <th>sqft_lot</th>\n",
              "      <th>floors</th>\n",
              "      <th>waterfront</th>\n",
              "      <th>view</th>\n",
              "      <th>condition</th>\n",
              "      <th>sqft_above</th>\n",
              "      <th>sqft_basement</th>\n",
              "      <th>yr_built</th>\n",
              "      <th>yr_renovated</th>\n",
              "      <th>street</th>\n",
              "      <th>city</th>\n",
              "      <th>statezip</th>\n",
              "      <th>country</th>\n",
              "    </tr>\n",
              "  </thead>\n",
              "  <tbody>\n",
              "    <tr>\n",
              "      <th>0</th>\n",
              "      <td>0</td>\n",
              "      <td>313000.0</td>\n",
              "      <td>3.0</td>\n",
              "      <td>1.50</td>\n",
              "      <td>1340</td>\n",
              "      <td>7912</td>\n",
              "      <td>1.5</td>\n",
              "      <td>0</td>\n",
              "      <td>0</td>\n",
              "      <td>3</td>\n",
              "      <td>1340</td>\n",
              "      <td>0</td>\n",
              "      <td>1955</td>\n",
              "      <td>2005</td>\n",
              "      <td>1522</td>\n",
              "      <td>36</td>\n",
              "      <td>62</td>\n",
              "      <td>0</td>\n",
              "    </tr>\n",
              "    <tr>\n",
              "      <th>1</th>\n",
              "      <td>0</td>\n",
              "      <td>2384000.0</td>\n",
              "      <td>5.0</td>\n",
              "      <td>2.50</td>\n",
              "      <td>3650</td>\n",
              "      <td>9050</td>\n",
              "      <td>2.0</td>\n",
              "      <td>0</td>\n",
              "      <td>4</td>\n",
              "      <td>5</td>\n",
              "      <td>3370</td>\n",
              "      <td>280</td>\n",
              "      <td>1921</td>\n",
              "      <td>0</td>\n",
              "      <td>3899</td>\n",
              "      <td>35</td>\n",
              "      <td>58</td>\n",
              "      <td>0</td>\n",
              "    </tr>\n",
              "    <tr>\n",
              "      <th>2</th>\n",
              "      <td>0</td>\n",
              "      <td>342000.0</td>\n",
              "      <td>3.0</td>\n",
              "      <td>2.00</td>\n",
              "      <td>1930</td>\n",
              "      <td>11947</td>\n",
              "      <td>1.0</td>\n",
              "      <td>0</td>\n",
              "      <td>0</td>\n",
              "      <td>4</td>\n",
              "      <td>1930</td>\n",
              "      <td>0</td>\n",
              "      <td>1966</td>\n",
              "      <td>0</td>\n",
              "      <td>2291</td>\n",
              "      <td>18</td>\n",
              "      <td>26</td>\n",
              "      <td>0</td>\n",
              "    </tr>\n",
              "    <tr>\n",
              "      <th>3</th>\n",
              "      <td>0</td>\n",
              "      <td>420000.0</td>\n",
              "      <td>3.0</td>\n",
              "      <td>2.25</td>\n",
              "      <td>2000</td>\n",
              "      <td>8030</td>\n",
              "      <td>1.0</td>\n",
              "      <td>0</td>\n",
              "      <td>0</td>\n",
              "      <td>4</td>\n",
              "      <td>1000</td>\n",
              "      <td>1000</td>\n",
              "      <td>1963</td>\n",
              "      <td>0</td>\n",
              "      <td>4263</td>\n",
              "      <td>3</td>\n",
              "      <td>7</td>\n",
              "      <td>0</td>\n",
              "    </tr>\n",
              "    <tr>\n",
              "      <th>4</th>\n",
              "      <td>0</td>\n",
              "      <td>550000.0</td>\n",
              "      <td>4.0</td>\n",
              "      <td>2.50</td>\n",
              "      <td>1940</td>\n",
              "      <td>10500</td>\n",
              "      <td>1.0</td>\n",
              "      <td>0</td>\n",
              "      <td>0</td>\n",
              "      <td>4</td>\n",
              "      <td>1140</td>\n",
              "      <td>800</td>\n",
              "      <td>1976</td>\n",
              "      <td>1992</td>\n",
              "      <td>4352</td>\n",
              "      <td>31</td>\n",
              "      <td>31</td>\n",
              "      <td>0</td>\n",
              "    </tr>\n",
              "  </tbody>\n",
              "</table>\n",
              "</div>\n",
              "      <button class=\"colab-df-convert\" onclick=\"convertToInteractive('df-54c28882-7754-46d7-9809-bd726ac6d0f7')\"\n",
              "              title=\"Convert this dataframe to an interactive table.\"\n",
              "              style=\"display:none;\">\n",
              "        \n",
              "  <svg xmlns=\"http://www.w3.org/2000/svg\" height=\"24px\"viewBox=\"0 0 24 24\"\n",
              "       width=\"24px\">\n",
              "    <path d=\"M0 0h24v24H0V0z\" fill=\"none\"/>\n",
              "    <path d=\"M18.56 5.44l.94 2.06.94-2.06 2.06-.94-2.06-.94-.94-2.06-.94 2.06-2.06.94zm-11 1L8.5 8.5l.94-2.06 2.06-.94-2.06-.94L8.5 2.5l-.94 2.06-2.06.94zm10 10l.94 2.06.94-2.06 2.06-.94-2.06-.94-.94-2.06-.94 2.06-2.06.94z\"/><path d=\"M17.41 7.96l-1.37-1.37c-.4-.4-.92-.59-1.43-.59-.52 0-1.04.2-1.43.59L10.3 9.45l-7.72 7.72c-.78.78-.78 2.05 0 2.83L4 21.41c.39.39.9.59 1.41.59.51 0 1.02-.2 1.41-.59l7.78-7.78 2.81-2.81c.8-.78.8-2.07 0-2.86zM5.41 20L4 18.59l7.72-7.72 1.47 1.35L5.41 20z\"/>\n",
              "  </svg>\n",
              "      </button>\n",
              "      \n",
              "  <style>\n",
              "    .colab-df-container {\n",
              "      display:flex;\n",
              "      flex-wrap:wrap;\n",
              "      gap: 12px;\n",
              "    }\n",
              "\n",
              "    .colab-df-convert {\n",
              "      background-color: #E8F0FE;\n",
              "      border: none;\n",
              "      border-radius: 50%;\n",
              "      cursor: pointer;\n",
              "      display: none;\n",
              "      fill: #1967D2;\n",
              "      height: 32px;\n",
              "      padding: 0 0 0 0;\n",
              "      width: 32px;\n",
              "    }\n",
              "\n",
              "    .colab-df-convert:hover {\n",
              "      background-color: #E2EBFA;\n",
              "      box-shadow: 0px 1px 2px rgba(60, 64, 67, 0.3), 0px 1px 3px 1px rgba(60, 64, 67, 0.15);\n",
              "      fill: #174EA6;\n",
              "    }\n",
              "\n",
              "    [theme=dark] .colab-df-convert {\n",
              "      background-color: #3B4455;\n",
              "      fill: #D2E3FC;\n",
              "    }\n",
              "\n",
              "    [theme=dark] .colab-df-convert:hover {\n",
              "      background-color: #434B5C;\n",
              "      box-shadow: 0px 1px 3px 1px rgba(0, 0, 0, 0.15);\n",
              "      filter: drop-shadow(0px 1px 2px rgba(0, 0, 0, 0.3));\n",
              "      fill: #FFFFFF;\n",
              "    }\n",
              "  </style>\n",
              "\n",
              "      <script>\n",
              "        const buttonEl =\n",
              "          document.querySelector('#df-54c28882-7754-46d7-9809-bd726ac6d0f7 button.colab-df-convert');\n",
              "        buttonEl.style.display =\n",
              "          google.colab.kernel.accessAllowed ? 'block' : 'none';\n",
              "\n",
              "        async function convertToInteractive(key) {\n",
              "          const element = document.querySelector('#df-54c28882-7754-46d7-9809-bd726ac6d0f7');\n",
              "          const dataTable =\n",
              "            await google.colab.kernel.invokeFunction('convertToInteractive',\n",
              "                                                     [key], {});\n",
              "          if (!dataTable) return;\n",
              "\n",
              "          const docLinkHtml = 'Like what you see? Visit the ' +\n",
              "            '<a target=\"_blank\" href=https://colab.research.google.com/notebooks/data_table.ipynb>data table notebook</a>'\n",
              "            + ' to learn more about interactive tables.';\n",
              "          element.innerHTML = '';\n",
              "          dataTable['output_type'] = 'display_data';\n",
              "          await google.colab.output.renderOutput(dataTable, element);\n",
              "          const docLink = document.createElement('div');\n",
              "          docLink.innerHTML = docLinkHtml;\n",
              "          element.appendChild(docLink);\n",
              "        }\n",
              "      </script>\n",
              "    </div>\n",
              "  </div>\n",
              "  "
            ]
          },
          "metadata": {},
          "execution_count": 848
        }
      ]
    },
    {
      "cell_type": "code",
      "source": [
        "#normalizing\n",
        "normalized_file = (my_file-my_file.min() + 1)/(my_file.max()-my_file.min() + 1)\n",
        "normalized_file.head(2)"
      ],
      "metadata": {
        "colab": {
          "base_uri": "https://localhost:8080/",
          "height": 176
        },
        "id": "Kqdm41CBNsoo",
        "outputId": "0431595f-3f8e-4971-89d9-b4043f645d93"
      },
      "execution_count": 849,
      "outputs": [
        {
          "output_type": "execute_result",
          "data": {
            "text/plain": [
              "       date     price  bedrooms  bathrooms  sqft_living  sqft_lot    floors  \\\n",
              "0  0.014286  0.011771       0.4   0.277778     0.073723  0.006776  0.428571   \n",
              "1  0.014286  0.089658       0.6   0.388889     0.249108  0.007836  0.571429   \n",
              "\n",
              "   waterfront  view  condition  sqft_above  sqft_basement  yr_built  \\\n",
              "0         0.5   0.2        0.6    0.107400       0.000207  0.486957   \n",
              "1         0.5   1.0        1.0    0.331932       0.058287  0.191304   \n",
              "\n",
              "   yr_renovated    street      city  statezip  country  \n",
              "0      0.995533  0.336575  0.840909  0.818182      1.0  \n",
              "1      0.000496  0.861878  0.818182  0.766234      1.0  "
            ],
            "text/html": [
              "\n",
              "  <div id=\"df-a7cfda1c-08c4-4e03-ba20-a5f4be627199\">\n",
              "    <div class=\"colab-df-container\">\n",
              "      <div>\n",
              "<style scoped>\n",
              "    .dataframe tbody tr th:only-of-type {\n",
              "        vertical-align: middle;\n",
              "    }\n",
              "\n",
              "    .dataframe tbody tr th {\n",
              "        vertical-align: top;\n",
              "    }\n",
              "\n",
              "    .dataframe thead th {\n",
              "        text-align: right;\n",
              "    }\n",
              "</style>\n",
              "<table border=\"1\" class=\"dataframe\">\n",
              "  <thead>\n",
              "    <tr style=\"text-align: right;\">\n",
              "      <th></th>\n",
              "      <th>date</th>\n",
              "      <th>price</th>\n",
              "      <th>bedrooms</th>\n",
              "      <th>bathrooms</th>\n",
              "      <th>sqft_living</th>\n",
              "      <th>sqft_lot</th>\n",
              "      <th>floors</th>\n",
              "      <th>waterfront</th>\n",
              "      <th>view</th>\n",
              "      <th>condition</th>\n",
              "      <th>sqft_above</th>\n",
              "      <th>sqft_basement</th>\n",
              "      <th>yr_built</th>\n",
              "      <th>yr_renovated</th>\n",
              "      <th>street</th>\n",
              "      <th>city</th>\n",
              "      <th>statezip</th>\n",
              "      <th>country</th>\n",
              "    </tr>\n",
              "  </thead>\n",
              "  <tbody>\n",
              "    <tr>\n",
              "      <th>0</th>\n",
              "      <td>0.014286</td>\n",
              "      <td>0.011771</td>\n",
              "      <td>0.4</td>\n",
              "      <td>0.277778</td>\n",
              "      <td>0.073723</td>\n",
              "      <td>0.006776</td>\n",
              "      <td>0.428571</td>\n",
              "      <td>0.5</td>\n",
              "      <td>0.2</td>\n",
              "      <td>0.6</td>\n",
              "      <td>0.107400</td>\n",
              "      <td>0.000207</td>\n",
              "      <td>0.486957</td>\n",
              "      <td>0.995533</td>\n",
              "      <td>0.336575</td>\n",
              "      <td>0.840909</td>\n",
              "      <td>0.818182</td>\n",
              "      <td>1.0</td>\n",
              "    </tr>\n",
              "    <tr>\n",
              "      <th>1</th>\n",
              "      <td>0.014286</td>\n",
              "      <td>0.089658</td>\n",
              "      <td>0.6</td>\n",
              "      <td>0.388889</td>\n",
              "      <td>0.249108</td>\n",
              "      <td>0.007836</td>\n",
              "      <td>0.571429</td>\n",
              "      <td>0.5</td>\n",
              "      <td>1.0</td>\n",
              "      <td>1.0</td>\n",
              "      <td>0.331932</td>\n",
              "      <td>0.058287</td>\n",
              "      <td>0.191304</td>\n",
              "      <td>0.000496</td>\n",
              "      <td>0.861878</td>\n",
              "      <td>0.818182</td>\n",
              "      <td>0.766234</td>\n",
              "      <td>1.0</td>\n",
              "    </tr>\n",
              "  </tbody>\n",
              "</table>\n",
              "</div>\n",
              "      <button class=\"colab-df-convert\" onclick=\"convertToInteractive('df-a7cfda1c-08c4-4e03-ba20-a5f4be627199')\"\n",
              "              title=\"Convert this dataframe to an interactive table.\"\n",
              "              style=\"display:none;\">\n",
              "        \n",
              "  <svg xmlns=\"http://www.w3.org/2000/svg\" height=\"24px\"viewBox=\"0 0 24 24\"\n",
              "       width=\"24px\">\n",
              "    <path d=\"M0 0h24v24H0V0z\" fill=\"none\"/>\n",
              "    <path d=\"M18.56 5.44l.94 2.06.94-2.06 2.06-.94-2.06-.94-.94-2.06-.94 2.06-2.06.94zm-11 1L8.5 8.5l.94-2.06 2.06-.94-2.06-.94L8.5 2.5l-.94 2.06-2.06.94zm10 10l.94 2.06.94-2.06 2.06-.94-2.06-.94-.94-2.06-.94 2.06-2.06.94z\"/><path d=\"M17.41 7.96l-1.37-1.37c-.4-.4-.92-.59-1.43-.59-.52 0-1.04.2-1.43.59L10.3 9.45l-7.72 7.72c-.78.78-.78 2.05 0 2.83L4 21.41c.39.39.9.59 1.41.59.51 0 1.02-.2 1.41-.59l7.78-7.78 2.81-2.81c.8-.78.8-2.07 0-2.86zM5.41 20L4 18.59l7.72-7.72 1.47 1.35L5.41 20z\"/>\n",
              "  </svg>\n",
              "      </button>\n",
              "      \n",
              "  <style>\n",
              "    .colab-df-container {\n",
              "      display:flex;\n",
              "      flex-wrap:wrap;\n",
              "      gap: 12px;\n",
              "    }\n",
              "\n",
              "    .colab-df-convert {\n",
              "      background-color: #E8F0FE;\n",
              "      border: none;\n",
              "      border-radius: 50%;\n",
              "      cursor: pointer;\n",
              "      display: none;\n",
              "      fill: #1967D2;\n",
              "      height: 32px;\n",
              "      padding: 0 0 0 0;\n",
              "      width: 32px;\n",
              "    }\n",
              "\n",
              "    .colab-df-convert:hover {\n",
              "      background-color: #E2EBFA;\n",
              "      box-shadow: 0px 1px 2px rgba(60, 64, 67, 0.3), 0px 1px 3px 1px rgba(60, 64, 67, 0.15);\n",
              "      fill: #174EA6;\n",
              "    }\n",
              "\n",
              "    [theme=dark] .colab-df-convert {\n",
              "      background-color: #3B4455;\n",
              "      fill: #D2E3FC;\n",
              "    }\n",
              "\n",
              "    [theme=dark] .colab-df-convert:hover {\n",
              "      background-color: #434B5C;\n",
              "      box-shadow: 0px 1px 3px 1px rgba(0, 0, 0, 0.15);\n",
              "      filter: drop-shadow(0px 1px 2px rgba(0, 0, 0, 0.3));\n",
              "      fill: #FFFFFF;\n",
              "    }\n",
              "  </style>\n",
              "\n",
              "      <script>\n",
              "        const buttonEl =\n",
              "          document.querySelector('#df-a7cfda1c-08c4-4e03-ba20-a5f4be627199 button.colab-df-convert');\n",
              "        buttonEl.style.display =\n",
              "          google.colab.kernel.accessAllowed ? 'block' : 'none';\n",
              "\n",
              "        async function convertToInteractive(key) {\n",
              "          const element = document.querySelector('#df-a7cfda1c-08c4-4e03-ba20-a5f4be627199');\n",
              "          const dataTable =\n",
              "            await google.colab.kernel.invokeFunction('convertToInteractive',\n",
              "                                                     [key], {});\n",
              "          if (!dataTable) return;\n",
              "\n",
              "          const docLinkHtml = 'Like what you see? Visit the ' +\n",
              "            '<a target=\"_blank\" href=https://colab.research.google.com/notebooks/data_table.ipynb>data table notebook</a>'\n",
              "            + ' to learn more about interactive tables.';\n",
              "          element.innerHTML = '';\n",
              "          dataTable['output_type'] = 'display_data';\n",
              "          await google.colab.output.renderOutput(dataTable, element);\n",
              "          const docLink = document.createElement('div');\n",
              "          docLink.innerHTML = docLinkHtml;\n",
              "          element.appendChild(docLink);\n",
              "        }\n",
              "      </script>\n",
              "    </div>\n",
              "  </div>\n",
              "  "
            ]
          },
          "metadata": {},
          "execution_count": 849
        }
      ]
    },
    {
      "cell_type": "markdown",
      "source": [
        "### Deviding Dataset"
      ],
      "metadata": {
        "id": "F6gb2iluYl8P"
      }
    },
    {
      "cell_type": "code",
      "source": [
        "x_training = normalized_file.sample(frac=0.65)\n",
        "normalized_file = normalized_file.drop(x_training.index)\n",
        "x_validation = normalized_file.sample(frac=15/35)\n",
        "x_test = normalized_file.drop(x_validation.index)\n",
        "# x_test = normalized_file.sample(frac=0.20)\n",
        "\n",
        "y_training = x_training['price']\n",
        "x_training.drop('price',inplace=True,axis=1)\n",
        "y_validation = x_validation['price']\n",
        "x_validation.drop('price',inplace=True,axis=1)\n",
        "y_test = x_test['price']\n",
        "x_test.drop('price',inplace=True,axis=1)\n",
        "\n",
        "x_training  = x_training.values\n",
        "y_training  = y_training.values\n",
        "x_validation  = x_validation.values\n",
        "y_validation  = y_validation.values\n",
        "x_test  = x_test.values\n",
        "y_test  = y_test.values"
      ],
      "metadata": {
        "id": "WMouhEgeNsrQ"
      },
      "execution_count": 850,
      "outputs": []
    },
    {
      "cell_type": "code",
      "source": [
        "x_test.shape"
      ],
      "metadata": {
        "colab": {
          "base_uri": "https://localhost:8080/"
        },
        "id": "gqNamgUXqzx1",
        "outputId": "28fc5e82-5ced-4695-e046-1c3c97eb70ce"
      },
      "execution_count": 851,
      "outputs": [
        {
          "output_type": "execute_result",
          "data": {
            "text/plain": [
              "(920, 17)"
            ]
          },
          "metadata": {},
          "execution_count": 851
        }
      ]
    },
    {
      "cell_type": "code",
      "source": [
        "y_test.shape"
      ],
      "metadata": {
        "colab": {
          "base_uri": "https://localhost:8080/"
        },
        "id": "9uI6krZIcNOY",
        "outputId": "d1aaf046-7f45-4f13-ade7-2b42e4fc8183"
      },
      "execution_count": 852,
      "outputs": [
        {
          "output_type": "execute_result",
          "data": {
            "text/plain": [
              "(920,)"
            ]
          },
          "metadata": {},
          "execution_count": 852
        }
      ]
    },
    {
      "cell_type": "markdown",
      "source": [
        "### Creating Model"
      ],
      "metadata": {
        "id": "Bri9TLumZ2ke"
      }
    },
    {
      "cell_type": "code",
      "source": [
        "from keras import layers\n",
        "model = tf.keras.Sequential()\n",
        "\n",
        "activation_func = 'linear'\n",
        "# activation_func = 'relu'\n",
        "\n",
        "#layer1\n",
        "model.add(layers.Dense(25, activation=activation_func ,input_shape=(17,)))\n",
        "model.add(layers.Dropout(0.2))\n",
        "\n",
        "#layer 2\n",
        "model.add(layers.Dense(20, activation=activation_func))\n",
        "model.add(layers.Dropout(0.2))\n",
        "\n",
        "#last layer\n",
        "model.add(layers.Dense(1,activation=activation_func))\n",
        "\n",
        "# model.summary()"
      ],
      "metadata": {
        "id": "CoI2NG88Wf19"
      },
      "execution_count": 853,
      "outputs": []
    },
    {
      "cell_type": "markdown",
      "source": [
        "#### Compiling the Model"
      ],
      "metadata": {
        "id": "VCUr33jQ8BSg"
      }
    },
    {
      "cell_type": "code",
      "source": [
        "# loss_func = 'categorical_crossentropy'\n",
        "# loss_func = 'mean_squared_error'\n",
        "# loss_func = 'mean_absolute_error'\n",
        "# loss_func = 'mse'\n",
        "loss_func = 'mae'\n",
        "\n",
        "optimizer_func = 'adam'\n",
        "# optimizer_func = tf.keras.optimizers.SGD(learning_rate = 0.1)\n",
        "# optimizer_func = tf.keras.optimizers.Adagrad(learning_rate = 0.1)\n",
        "\n",
        "model.compile(loss=loss_func,\n",
        "              optimizer=optimizer_func,\n",
        "              metrics=['mse','mae'])"
      ],
      "metadata": {
        "id": "ABXfaBNuWf4W"
      },
      "execution_count": 854,
      "outputs": []
    },
    {
      "cell_type": "markdown",
      "source": [
        "#### Training the Model"
      ],
      "metadata": {
        "id": "Lo721TdA8EKc"
      }
    },
    {
      "cell_type": "code",
      "source": [
        "import datetime\n",
        "start = datetime.datetime.now()\n",
        "trainedModel = model.fit(x_training, y_training, batch_size=128, epochs=35, validation_data = (x_validation,y_validation))\n",
        "end = datetime.datetime.now()"
      ],
      "metadata": {
        "colab": {
          "base_uri": "https://localhost:8080/"
        },
        "id": "QtbUkzXpWf6t",
        "outputId": "97b9dff9-b6e6-4d87-ee82-8b5c135e4e92"
      },
      "execution_count": 855,
      "outputs": [
        {
          "output_type": "stream",
          "name": "stdout",
          "text": [
            "Epoch 1/35\n",
            "24/24 [==============================] - 1s 11ms/step - loss: 0.3211 - mse: 0.1674 - mae: 0.3211 - val_loss: 0.0959 - val_mse: 0.0142 - val_mae: 0.0959\n",
            "Epoch 2/35\n",
            "24/24 [==============================] - 0s 4ms/step - loss: 0.1825 - mse: 0.0547 - mae: 0.1825 - val_loss: 0.0456 - val_mse: 0.0037 - val_mae: 0.0456\n",
            "Epoch 3/35\n",
            "24/24 [==============================] - 0s 4ms/step - loss: 0.1293 - mse: 0.0276 - mae: 0.1293 - val_loss: 0.0258 - val_mse: 0.0012 - val_mae: 0.0258\n",
            "Epoch 4/35\n",
            "24/24 [==============================] - 0s 5ms/step - loss: 0.1022 - mse: 0.0172 - mae: 0.1022 - val_loss: 0.0167 - val_mse: 5.4789e-04 - val_mae: 0.0167\n",
            "Epoch 5/35\n",
            "24/24 [==============================] - 0s 4ms/step - loss: 0.0878 - mse: 0.0131 - mae: 0.0878 - val_loss: 0.0133 - val_mse: 3.4713e-04 - val_mae: 0.0133\n",
            "Epoch 6/35\n",
            "24/24 [==============================] - 0s 4ms/step - loss: 0.0736 - mse: 0.0096 - mae: 0.0736 - val_loss: 0.0097 - val_mse: 1.9237e-04 - val_mae: 0.0097\n",
            "Epoch 7/35\n",
            "24/24 [==============================] - 0s 4ms/step - loss: 0.0636 - mse: 0.0073 - mae: 0.0636 - val_loss: 0.0082 - val_mse: 1.4875e-04 - val_mae: 0.0082\n",
            "Epoch 8/35\n",
            "24/24 [==============================] - 0s 4ms/step - loss: 0.0545 - mse: 0.0053 - mae: 0.0545 - val_loss: 0.0082 - val_mse: 1.4436e-04 - val_mae: 0.0082\n",
            "Epoch 9/35\n",
            "24/24 [==============================] - 0s 4ms/step - loss: 0.0480 - mse: 0.0043 - mae: 0.0480 - val_loss: 0.0088 - val_mse: 1.3704e-04 - val_mae: 0.0088\n",
            "Epoch 10/35\n",
            "24/24 [==============================] - 0s 4ms/step - loss: 0.0444 - mse: 0.0039 - mae: 0.0444 - val_loss: 0.0077 - val_mse: 1.3762e-04 - val_mae: 0.0077\n",
            "Epoch 11/35\n",
            "24/24 [==============================] - 0s 4ms/step - loss: 0.0407 - mse: 0.0032 - mae: 0.0407 - val_loss: 0.0070 - val_mse: 1.1130e-04 - val_mae: 0.0070\n",
            "Epoch 12/35\n",
            "24/24 [==============================] - 0s 4ms/step - loss: 0.0363 - mse: 0.0027 - mae: 0.0363 - val_loss: 0.0075 - val_mse: 1.2070e-04 - val_mae: 0.0075\n",
            "Epoch 13/35\n",
            "24/24 [==============================] - 0s 3ms/step - loss: 0.0323 - mse: 0.0022 - mae: 0.0323 - val_loss: 0.0068 - val_mse: 1.0756e-04 - val_mae: 0.0068\n",
            "Epoch 14/35\n",
            "24/24 [==============================] - 0s 4ms/step - loss: 0.0311 - mse: 0.0021 - mae: 0.0311 - val_loss: 0.0078 - val_mse: 1.1307e-04 - val_mae: 0.0078\n",
            "Epoch 15/35\n",
            "24/24 [==============================] - 0s 4ms/step - loss: 0.0287 - mse: 0.0018 - mae: 0.0287 - val_loss: 0.0068 - val_mse: 1.0344e-04 - val_mae: 0.0068\n",
            "Epoch 16/35\n",
            "24/24 [==============================] - 0s 5ms/step - loss: 0.0261 - mse: 0.0016 - mae: 0.0261 - val_loss: 0.0075 - val_mse: 1.0817e-04 - val_mae: 0.0075\n",
            "Epoch 17/35\n",
            "24/24 [==============================] - 0s 4ms/step - loss: 0.0247 - mse: 0.0014 - mae: 0.0247 - val_loss: 0.0071 - val_mse: 1.0891e-04 - val_mae: 0.0071\n",
            "Epoch 18/35\n",
            "24/24 [==============================] - 0s 4ms/step - loss: 0.0232 - mse: 0.0013 - mae: 0.0232 - val_loss: 0.0067 - val_mse: 1.0273e-04 - val_mae: 0.0067\n",
            "Epoch 19/35\n",
            "24/24 [==============================] - 0s 4ms/step - loss: 0.0215 - mse: 0.0012 - mae: 0.0215 - val_loss: 0.0070 - val_mse: 1.0293e-04 - val_mae: 0.0070\n",
            "Epoch 20/35\n",
            "24/24 [==============================] - 0s 3ms/step - loss: 0.0203 - mse: 0.0011 - mae: 0.0203 - val_loss: 0.0069 - val_mse: 1.0299e-04 - val_mae: 0.0069\n",
            "Epoch 21/35\n",
            "24/24 [==============================] - 0s 4ms/step - loss: 0.0195 - mse: 0.0011 - mae: 0.0195 - val_loss: 0.0069 - val_mse: 1.0343e-04 - val_mae: 0.0069\n",
            "Epoch 22/35\n",
            "24/24 [==============================] - 0s 4ms/step - loss: 0.0182 - mse: 9.8405e-04 - mae: 0.0182 - val_loss: 0.0067 - val_mse: 1.0825e-04 - val_mae: 0.0067\n",
            "Epoch 23/35\n",
            "24/24 [==============================] - 0s 3ms/step - loss: 0.0180 - mse: 9.7084e-04 - mae: 0.0180 - val_loss: 0.0067 - val_mse: 1.0648e-04 - val_mae: 0.0067\n",
            "Epoch 24/35\n",
            "24/24 [==============================] - 0s 4ms/step - loss: 0.0172 - mse: 9.3005e-04 - mae: 0.0172 - val_loss: 0.0075 - val_mse: 1.0798e-04 - val_mae: 0.0075\n",
            "Epoch 25/35\n",
            "24/24 [==============================] - 0s 5ms/step - loss: 0.0159 - mse: 8.4891e-04 - mae: 0.0159 - val_loss: 0.0066 - val_mse: 9.7985e-05 - val_mae: 0.0066\n",
            "Epoch 26/35\n",
            "24/24 [==============================] - 0s 4ms/step - loss: 0.0149 - mse: 7.6989e-04 - mae: 0.0149 - val_loss: 0.0069 - val_mse: 1.0954e-04 - val_mae: 0.0069\n",
            "Epoch 27/35\n",
            "24/24 [==============================] - 0s 4ms/step - loss: 0.0144 - mse: 7.7075e-04 - mae: 0.0144 - val_loss: 0.0068 - val_mse: 1.0175e-04 - val_mae: 0.0068\n",
            "Epoch 28/35\n",
            "24/24 [==============================] - 0s 4ms/step - loss: 0.0140 - mse: 7.3827e-04 - mae: 0.0140 - val_loss: 0.0065 - val_mse: 9.8418e-05 - val_mae: 0.0065\n",
            "Epoch 29/35\n",
            "24/24 [==============================] - 0s 4ms/step - loss: 0.0135 - mse: 7.2850e-04 - mae: 0.0135 - val_loss: 0.0065 - val_mse: 1.0329e-04 - val_mae: 0.0065\n",
            "Epoch 30/35\n",
            "24/24 [==============================] - 0s 4ms/step - loss: 0.0129 - mse: 7.0468e-04 - mae: 0.0129 - val_loss: 0.0069 - val_mse: 1.1303e-04 - val_mae: 0.0069\n",
            "Epoch 31/35\n",
            "24/24 [==============================] - 0s 4ms/step - loss: 0.0127 - mse: 6.7087e-04 - mae: 0.0127 - val_loss: 0.0067 - val_mse: 1.0116e-04 - val_mae: 0.0067\n",
            "Epoch 32/35\n",
            "24/24 [==============================] - 0s 4ms/step - loss: 0.0122 - mse: 6.7173e-04 - mae: 0.0122 - val_loss: 0.0065 - val_mse: 9.9899e-05 - val_mae: 0.0065\n",
            "Epoch 33/35\n",
            "24/24 [==============================] - 0s 4ms/step - loss: 0.0118 - mse: 6.5609e-04 - mae: 0.0118 - val_loss: 0.0067 - val_mse: 1.0111e-04 - val_mae: 0.0067\n",
            "Epoch 34/35\n",
            "24/24 [==============================] - 0s 4ms/step - loss: 0.0110 - mse: 6.1435e-04 - mae: 0.0110 - val_loss: 0.0065 - val_mse: 1.0007e-04 - val_mae: 0.0065\n",
            "Epoch 35/35\n",
            "24/24 [==============================] - 0s 4ms/step - loss: 0.0112 - mse: 6.2878e-04 - mae: 0.0112 - val_loss: 0.0065 - val_mse: 9.8915e-05 - val_mae: 0.0065\n"
          ]
        }
      ]
    },
    {
      "cell_type": "code",
      "source": [
        "print('Training Duration: ', end-start)"
      ],
      "metadata": {
        "colab": {
          "base_uri": "https://localhost:8080/"
        },
        "id": "5jtrHPbcWf8g",
        "outputId": "8f2a1b56-db8d-4a04-d17e-1f5bfee37275"
      },
      "execution_count": 856,
      "outputs": [
        {
          "output_type": "stream",
          "name": "stdout",
          "text": [
            "Training Duration:  0:00:05.737758\n"
          ]
        }
      ]
    },
    {
      "cell_type": "markdown",
      "source": [
        "#### Evaluating the Model"
      ],
      "metadata": {
        "id": "oH_PxFrX8HlN"
      }
    },
    {
      "cell_type": "code",
      "source": [
        "history = trainedModel.history\n",
        "mae = history['mae']\n",
        "val_mae = history['val_mae']\n",
        "mse = history['mse']\n",
        "val_mse = history['val_mse']\n",
        "\n",
        "plt.xlabel('Epochs')\n",
        "plt.ylabel('Cost')\n",
        "# plt.ylim(0, np.amax(mae)/3)\n",
        "plt.plot(mae)\n",
        "plt.plot(val_mae)\n",
        "plt.legend(['mae','val_mae'])\n",
        "plt.figure()\n",
        "\n",
        "plt.xlabel('Epochs')\n",
        "plt.ylabel('Cost')\n",
        "# plt.ylim(0, np.amax(mse)/3)\n",
        "plt.plot(mse)\n",
        "plt.plot(val_mse)\n",
        "plt.legend(['mse','val_mse'])"
      ],
      "metadata": {
        "colab": {
          "base_uri": "https://localhost:8080/",
          "height": 563
        },
        "id": "oe4vTqYYla0l",
        "outputId": "f71d3a53-07f4-43db-97ab-02895d05d721"
      },
      "execution_count": 857,
      "outputs": [
        {
          "output_type": "execute_result",
          "data": {
            "text/plain": [
              "<matplotlib.legend.Legend at 0x7f205158c990>"
            ]
          },
          "metadata": {},
          "execution_count": 857
        },
        {
          "output_type": "display_data",
          "data": {
            "text/plain": [
              "<Figure size 432x288 with 1 Axes>"
            ],
            "image/png": "[encoded data removed]"
          },
          "metadata": {
            "needs_background": "light"
          }
        },
        {
          "output_type": "display_data",
          "data": {
            "text/plain": [
              "<Figure size 432x288 with 1 Axes>"
            ],
            "image/png": "[encoded data removed]"
          },
          "metadata": {
            "needs_background": "light"
          }
        }
      ]
    },
    {
      "cell_type": "code",
      "source": [
        "#plotting predicted and real\n",
        "y_pred = model.predict(x_test)\n",
        "plt.xlabel('y_test')\n",
        "plt.ylabel('y_predicted')\n",
        "plt.xlim(0, np.amax(y_pred))\n",
        "plt.ylim(0, np.amax(y_pred))\n",
        "plt.scatter(y_test, y_pred)"
      ],
      "metadata": {
        "id": "-Zi0GWn6la24",
        "colab": {
          "base_uri": "https://localhost:8080/",
          "height": 299
        },
        "outputId": "76e51b03-e348-42ce-8dae-ff6ff7000312"
      },
      "execution_count": 858,
      "outputs": [
        {
          "output_type": "execute_result",
          "data": {
            "text/plain": [
              "<matplotlib.collections.PathCollection at 0x7f2053c84b90>"
            ]
          },
          "metadata": {},
          "execution_count": 858
        },
        {
          "output_type": "display_data",
          "data": {
            "text/plain": [
              "<Figure size 432x288 with 1 Axes>"
            ],
            "image/png": "[encoded data removed]"
          },
          "metadata": {
            "needs_background": "light"
          }
        }
      ]
    }
  ]
}